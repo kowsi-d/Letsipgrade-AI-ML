{
 "cells": [
  {
   "cell_type": "code",
   "execution_count": 4,
   "metadata": {},
   "outputs": [
    {
     "name": "stdout",
     "output_type": "stream",
     "text": [
      "1 3 5 7 9 11 13 15 17 19 21 23 25 27 29 31 33 35 37 39 "
     ]
    }
   ],
   "source": [
    "#question1:Write a Python program to find the first 20 non-even prime natural numbers.\n",
    "\n",
    "for num in range(1,40): \n",
    "       if num % 2 != 0: \n",
    "       print(num, end = \" \") \n"
   ]
  },
  {
   "cell_type": "code",
   "execution_count": 39,
   "metadata": {},
   "outputs": [
    {
     "name": "stdout",
     "output_type": "stream",
     "text": [
      "       banana       \n",
      "banana\n",
      "banana\n",
      "Banana\n",
      "banana\n",
      "b'banana'\n",
      "For only 49.00 dollars!\n",
      "['welcome', 'to', 'the', 'jungle']\n",
      "BANANA\n",
      "2\n",
      "John#Peter#Vicky\n",
      "of all fruits banana is my favorite\n",
      "Welcome To My World\n",
      "7\n",
      "True\n"
     ]
    }
   ],
   "source": [
    "#Question 2 :Write a Python program to implement 15 functions of string.\n",
    "txt = \"banana\"\n",
    "x = txt.center(20)\n",
    "print(x)\n",
    "txt = \"Banana\"\n",
    "x = txt.lower()\n",
    "print(x)\n",
    "txt = \"banana\"\n",
    "x = txt.format()\n",
    "print(x)\n",
    "txt = \"banana\"\n",
    "x = txt.capitalize()\n",
    "print(x)\n",
    "txt = \"banana\"\n",
    "x = txt.casefold()\n",
    "print(x)\n",
    "txt = \"banana\"\n",
    "x = txt.encode()\n",
    "print(x)\n",
    "#encode()method is to method formats the specified value(s) and insert them inside the string's placeholder\n",
    "txt = \"For only {price:.2f} dollars!\"\n",
    "print(txt.format(price = 49))\n",
    "#Split a string into a list where each word is a list item\n",
    "txt = \"welcome to the jungle\"\n",
    "x = txt.split()\n",
    "print(x)\n",
    "txt = \"Banana\"\n",
    "x = txt.upper()\n",
    "print(x)\n",
    "txt = \"I love apples, apple are my favorite fruit\"\n",
    "x = txt.count(\"apple\")\n",
    "print(x)\n",
    "x = (\"apple\")\n",
    "type(x)\n",
    "myTuple = (\"John\", \"Peter\", \"Vicky\")\n",
    "x = \"#\".join(myTuple)\n",
    "print(x)\n",
    "txt = \"     banana     \"\n",
    "x = txt.strip()\n",
    "print(\"of all fruits\", x, \"is my favorite\")\n",
    "txt = \"Welcome to my world\"\n",
    "x = txt.title()\n",
    "print(x)\n",
    "txt = \"Hello, welcome to my world.\"\n",
    "x = txt.find(\"welcome\")\n",
    "print(x)\n",
    "txt = \"hello world!\"\n",
    "x = txt.islower()\n",
    "print(x)"
   ]
  },
  {
   "cell_type": "code",
   "execution_count": 1,
   "metadata": {},
   "outputs": [
    {
     "name": "stdout",
     "output_type": "stream",
     "text": [
      "Yes\n"
     ]
    }
   ],
   "source": [
    "#Question 3:Write a Python program to check if the given string is a Palindrome \n",
    "def isPalindrome(s): \n",
    "    return s == s[::-1] \n",
    "  \n",
    "  \n",
    "# Driver code \n",
    "s = \"malayalam\"\n",
    "ans = isPalindrome(s) \n",
    "  \n",
    "if ans: \n",
    "    print(\"Yes\") \n",
    "else: \n",
    "    print(\"No\") \n",
    "        "
   ]
  },
  {
   "cell_type": "code",
   "execution_count": 3,
   "metadata": {},
   "outputs": [
    {
     "name": "stdout",
     "output_type": "stream",
     "text": [
      "The strings are anagrams.\n"
     ]
    }
   ],
   "source": [
    "def check(s1, s2): \n",
    "      \n",
    "    # the sorted strings are checked  \n",
    "    if(sorted(s1)== sorted(s2)): \n",
    "        print(\"The strings are anagrams.\")  \n",
    "    else: \n",
    "        print(\"The strings aren't anagrams.\")          \n",
    "          \n",
    "# driver code   \n",
    "s1 =\"listen\"\n",
    "s2 =\"silent\" \n",
    "check(s1, s2) "
   ]
  },
  {
   "cell_type": "code",
   "execution_count": null,
   "metadata": {},
   "outputs": [],
   "source": [
    "#Question 4:Write a Python's user defined function that removes all the additional characters from the string\n",
    "and converts it finally to lower case using built-in lower().\n",
    "string = input(\"enter the string:\")\n",
    "def stringfunction(string):\n",
    "    add=\"\"\n",
    "    \n",
    "    for char in string:\n",
    "        if(char.isalnum()):\n",
    "            add +=char\n",
    "    return add\n",
    "stringfuction(string)\n",
    "lower=stringfuction(string)\n",
    "print(lower.lower())\n",
    "        "
   ]
  },
  {
   "cell_type": "code",
   "execution_count": null,
   "metadata": {},
   "outputs": [],
   "source": []
  },
  {
   "cell_type": "code",
   "execution_count": null,
   "metadata": {},
   "outputs": [],
   "source": []
  }
 ],
 "metadata": {
  "kernelspec": {
   "display_name": "Python 3",
   "language": "python",
   "name": "python3"
  },
  "language_info": {
   "codemirror_mode": {
    "name": "ipython",
    "version": 3
   },
   "file_extension": ".py",
   "mimetype": "text/x-python",
   "name": "python",
   "nbconvert_exporter": "python",
   "pygments_lexer": "ipython3",
   "version": "3.7.6"
  }
 },
 "nbformat": 4,
 "nbformat_minor": 4
}
